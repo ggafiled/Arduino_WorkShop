{
 "cells": [
  {
   "cell_type": "code",
   "execution_count": null,
   "metadata": {},
   "outputs": [],
   "source": [
    "%pylab inline\n",
    "import cv2\n",
    "img = cv2.imread('C:/Users/NRRU/Desktop/python/answersheet-i.jpg')\n",
    "plt.subplot(2,2,1)\n",
    "plt.imshow(img)\n",
    "pts1 = np.float32([[717,270],[1429,65],[1094,1337],[1989,994]])\n",
    "pts2 = np.float32([[0,0],[800,0],[0,1000],[800,1000]])\n",
    "M = cv2.getPerspectiveTransform(pts1,pts2)\n",
    "dst = cv2.warpPerspective(img,M,(800,1000))\n",
    "cv2.imwrite(\"C:/Users/NRRU/Desktop/python/o-answersheet.jpg\",dst)\n",
    "plt.subplot(2,2,2)\n",
    "plt.imshow(dst)"
   ]
  },
  {
   "cell_type": "code",
   "execution_count": 3,
   "metadata": {},
   "outputs": [
    {
     "name": "stdout",
     "output_type": "stream",
     "text": [
      "Populating the interactive namespace from numpy and matplotlib\n"
     ]
    }
   ],
   "source": [
    "%pylab inline\n",
    "import cv2\n",
    "from scipy import ndimage\n",
    "import imutils\n",
    "\n",
    "def load_answersheet(im):\n",
    "    global ROWS, COLUMNS, thresh\n",
    "    img = cv2.imread(im,0)\n",
    "    a = []\n",
    "    w = img.shape[1]\n",
    "    w = img.shape[0]\n",
    "    ROWS = []\n",
    "    COLUMNS = []\n",
    "    blur = cv2.GaussianBlur(img,(5,5),0)\n",
    "    ret3,thresh = cv2.threshold(blur,0,255,cv2.THRESH_BINARY_INV+cv2.THRESH_OTSU)\n",
    "    cv2.imwrite(\"C:/Users/NRRU/Desktop/python/o-5.2-tresh.jpg\",thresh)\n",
    "#     plt.imshow(thresh);plt.show()\n",
    "\n",
    "    bw = thresh.copy()\n",
    "\n",
    "    th1 = thresh[0:5,0:800]\n",
    "    th1.shape\n",
    "    cv2.imwrite(\"C:/Users/NRRU/Desktop/python/_test.jpg\",th1)\n",
    "#     plt.imshow(th1)\n",
    "    labels = ndimage.label(th1, structure=np.ones((3, 3)))[0]\n",
    "#     print(np.unique(labels))\n",
    "\n",
    "    cnts = cv2.findContours(th1.copy(), cv2.RETR_EXTERNAL,cv2.CHAIN_APPROX_SIMPLE)\n",
    "    cnts = imutils.grab_contours(cnts)\n",
    "\n",
    "    for c in cnts:\n",
    "        # compute the center of the contour\n",
    "        M = cv2.moments(c)\n",
    "        cX = int(M[\"m10\"] / M[\"m00\"])\n",
    "        cY = int(M[\"m01\"] / M[\"m00\"])\n",
    "        #print(cX, cY)\n",
    "        cv2.line(bw,(cX,0),(cX,1000),(255,255,255),2)\n",
    "        COLUMNS.append(cX)\n",
    "    cv2.imwrite(\"C:/Users/NRRU/Desktop/python/_test_line.jpg\",bw)\n",
    "#     plt.imshow(bw)\n",
    "\n",
    "    th2 = thresh[0:1000, 0:5]\n",
    "    th2.shape\n",
    "    cv2.imwrite(\"C:/Users/NRRU/Desktop/python/_test_row.jpg\",th2)\n",
    "#     plt.imshow(th2)\n",
    "    labels = ndimage.label(th2, structure=np.ones((3, 3)))[0]\n",
    "#     print(np.unique(labels))\n",
    "\n",
    "    cnts = cv2.findContours(th2.copy(), cv2.RETR_EXTERNAL,cv2.CHAIN_APPROX_SIMPLE)\n",
    "    cnts = imutils.grab_contours(cnts)\n",
    "\n",
    "    for c in cnts:\n",
    "        # compute the center of the contour\n",
    "        M = cv2.moments(c)\n",
    "        cX = int(M[\"m10\"] / M[\"m00\"])\n",
    "        cY = int(M[\"m01\"] / M[\"m00\"])\n",
    "        #print(cX, cY)\n",
    "        cv2.line(bw,(0,cY),(800,cY),(255,255,255),2)\n",
    "        ROWS.append(cY)\n",
    "\n",
    "    cv2.imwrite(\"C:/Users/NRRU/Desktop/python/_test_line_row.jpg\",bw)\n",
    "#     plt.imshow(bw)\n",
    "\n",
    "    COLUMNS.sort()\n",
    "    # print(COLUMNS)\n",
    "    # print(len(COLUMNS))\n",
    "\n",
    "    ROWS.sort()\n",
    "    # print(ROWS)\n",
    "    # print(len(ROWS))\n",
    "    _dict = {}\n",
    "    for i in range(1,121):\n",
    "        q,ans = check(i) \n",
    "        _dict.update({q:ans}) \n",
    "    return _dict\n",
    "    "
   ]
  },
  {
   "cell_type": "code",
   "execution_count": 4,
   "metadata": {},
   "outputs": [],
   "source": [
    "def is_fill(c,r):\n",
    "    z = []\n",
    "    for x in range(ROWS[r]-5, ROWS[r]+5):\n",
    "        for y in range(COLUMNS[c]-5,COLUMNS[c]+5):\n",
    "            if(thresh[x][y]==255):\n",
    "                z.append(1)\n",
    "            else:\n",
    "                z.append(0)\n",
    "    if(sum(z) >= 50):\n",
    "        result = True\n",
    "    else:\n",
    "        result = False\n",
    "    return result\n",
    "\n",
    "def check(no):\n",
    "    ans = []\n",
    "    pattern = [\"ก\",\"ข\",\"ค\",\"ง\",\"จ\"]\n",
    "    R = [13,14,15,16,17,19,20,21,22,23,25,26,27,28,29,31,32,33,34,35,37,38,39,40,41,43,44,45,46,47]*4\n",
    "    C = [[1,2,3,4,5],[9,10,11,12,13],[17,18,19,20,21],[25,26,27,28,29]]\n",
    "    ci = int((no-1)/30)\n",
    "    ri = no-1\n",
    "    for i in C[ci]:\n",
    "        _tmp = is_fill(i,R[ri])\n",
    "        ans.append(_tmp)\n",
    "    return(no,pattern[ans.index(True)])\n",
    "\n",
    "def summary_score(ans,std):\n",
    "    tmp_ans = []\n",
    "    for i in ans.keys():\n",
    "        if std[i] == ans[i]:\n",
    "            tmp_ans.append(1)\n",
    "        else:\n",
    "            tmp_ans.append(0)\n",
    "    return sum(tmp_ans)"
   ]
  },
  {
   "cell_type": "code",
   "execution_count": 5,
   "metadata": {},
   "outputs": [],
   "source": [
    "answer = load_answersheet(\"C:/Users/NRRU/Desktop/python/answer-1.png\")"
   ]
  },
  {
   "cell_type": "code",
   "execution_count": 6,
   "metadata": {},
   "outputs": [],
   "source": [
    "student1 = load_answersheet(\"C:/Users/NRRU/Desktop/python/answer-2.png\")\n",
    "student2 = load_answersheet(\"C:/Users/NRRU/Desktop/python/answer-3.png\")\n",
    "student3 = load_answersheet(\"C:/Users/NRRU/Desktop/python/answer-1.png\")"
   ]
  },
  {
   "cell_type": "code",
   "execution_count": 9,
   "metadata": {},
   "outputs": [
    {
     "name": "stdout",
     "output_type": "stream",
     "text": [
      "77\n",
      "102\n",
      "120\n"
     ]
    }
   ],
   "source": [
    "print(summary_score(answer,student1))\n",
    "print(summary_score(answer,student2))\n",
    "print(summary_score(answer,student3))"
   ]
  },
  {
   "cell_type": "code",
   "execution_count": 7,
   "metadata": {},
   "outputs": [
    {
     "data": {
      "text/plain": [
       "dict_values(['ข', 'ค', 'ข', 'ง', 'ก', 'ค', 'ง', 'จ', 'จ', 'ก', 'ข', 'ค', 'ง', 'ก', 'จ', 'ก', 'ข', 'ง', 'ข', 'จ', 'ข', 'ค', 'ก', 'จ', 'ค', 'ก', 'ค', 'ง', 'ก', 'ค', 'ข', 'ค', 'ข', 'ง', 'ก', 'ค', 'ง', 'จ', 'จ', 'ก', 'ข', 'ค', 'ง', 'ก', 'จ', 'ก', 'ข', 'ง', 'ข', 'จ', 'ข', 'ค', 'ก', 'จ', 'ค', 'ก', 'ค', 'ง', 'ก', 'ค', 'ข', 'ง', 'ค', 'ก', 'จ', 'ก', 'ค', 'ข', 'จ', 'ค', 'ก', 'ข', 'ง', 'จ', 'ค', 'ค', 'ข', 'จ', 'ก', 'ง', 'ก', 'ค', 'ข', 'จ', 'ง', 'ก', 'ง', 'จ', 'ค', 'ข', 'ข', 'ง', 'ค', 'ก', 'จ', 'ก', 'ค', 'ข', 'จ', 'ค', 'ก', 'ข', 'ง', 'จ', 'ค', 'ค', 'ข', 'จ', 'ก', 'ง', 'ก', 'ค', 'ข', 'จ', 'ง', 'ก', 'ง', 'จ', 'ค', 'ข'])"
      ]
     },
     "execution_count": 7,
     "metadata": {},
     "output_type": "execute_result"
    }
   ],
   "source": [
    "answer.values()"
   ]
  },
  {
   "cell_type": "code",
   "execution_count": 8,
   "metadata": {},
   "outputs": [
    {
     "data": {
      "text/plain": [
       "dict_values(['ง', 'ข', 'จ', 'ก', 'ค', 'ข', 'จ', 'ก', 'ข', 'ง', 'ก', 'จ', 'ค', 'ข', 'จ', 'ก', 'ค', 'ข', 'จ', 'ก', 'ข', 'ก', 'ง', 'ข', 'ค', 'จ', 'ข', 'ง', 'ค', 'ก', 'ข', 'ค', 'ข', 'ง', 'ก', 'ค', 'ง', 'จ', 'จ', 'ก', 'ข', 'ค', 'ง', 'ก', 'จ', 'ก', 'ข', 'ง', 'ข', 'จ', 'ข', 'ค', 'ก', 'จ', 'ค', 'ก', 'ค', 'ง', 'ก', 'ค', 'ค', 'ง', 'ข', 'ก', 'จ', 'ก', 'ค', 'ง', 'ข', 'จ', 'ก', 'ข', 'ก', 'ข', 'ง', 'ก', 'ข', 'ง', 'ข', 'ค', 'ข', 'ค', 'ข', 'จ', 'ก', 'ข', 'ก', 'ค', 'ง', 'ข', 'ข', 'ง', 'ค', 'ก', 'จ', 'ก', 'ค', 'ข', 'จ', 'ค', 'ก', 'ข', 'ง', 'จ', 'ค', 'ค', 'ข', 'จ', 'ก', 'ง', 'ก', 'ค', 'ข', 'จ', 'ง', 'ก', 'ง', 'จ', 'ค', 'ข'])"
      ]
     },
     "execution_count": 8,
     "metadata": {},
     "output_type": "execute_result"
    }
   ],
   "source": [
    "student1.values()"
   ]
  },
  {
   "cell_type": "code",
   "execution_count": null,
   "metadata": {},
   "outputs": [],
   "source": []
  }
 ],
 "metadata": {
  "kernelspec": {
   "display_name": "Python 3",
   "language": "python",
   "name": "python3"
  },
  "language_info": {
   "codemirror_mode": {
    "name": "ipython",
    "version": 3
   },
   "file_extension": ".py",
   "mimetype": "text/x-python",
   "name": "python",
   "nbconvert_exporter": "python",
   "pygments_lexer": "ipython3",
   "version": "3.6.5"
  }
 },
 "nbformat": 4,
 "nbformat_minor": 2
}
